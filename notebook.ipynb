{
 "cells": [
  {
   "cell_type": "code",
   "execution_count": 2,
   "metadata": {},
   "outputs": [],
   "source": [
    "import pandas as pd\n",
    "import numpy as np\n",
    "import json\n",
    "from os import listdir\n",
    "from os.path import isfile, join"
   ]
  },
  {
   "cell_type": "code",
   "execution_count": 3,
   "metadata": {},
   "outputs": [],
   "source": [
    "def load_files(filedir):\n",
    "  with open(filedir) as f:\n",
    "    file = json.loads(f.read())\n",
    "    return file"
   ]
  },
  {
   "cell_type": "markdown",
   "metadata": {},
   "source": [
    "# Pre-Processing"
   ]
  },
  {
   "cell_type": "markdown",
   "metadata": {},
   "source": [
    "!git clone https://github.com/marcoramilli/MalwareTrainingSets/"
   ]
  },
  {
   "cell_type": "code",
   "execution_count": 4,
   "metadata": {},
   "outputs": [],
   "source": [
    "mypath='/Users/fernanda/Documents/Hands On Machine Learning for Cybersecurity/Cybersecurity-MachineLearning/MalwareTrainingSets/trainingSets'\n",
    "malwaretype=[\"APT1\",\"Crypto\",\"Locker\",\"Zeus\"]\n",
    "\n",
    "apt1_files=[join(join(mypath,malwaretype[0]),f) for f in listdir(join(mypath,malwaretype[0])) if isfile(join(join(mypath,malwaretype[0]), f))]\n",
    "crypto_files=[join(join(mypath,malwaretype[1]),f) for f in listdir(join(mypath,malwaretype[1])) if isfile(join(join(mypath,malwaretype[1]), f))]\n",
    "locker_files=[join(join(mypath,malwaretype[2]),f) for f in listdir(join(mypath,malwaretype[2])) if isfile(join(join(mypath,malwaretype[2]), f))]\n",
    "zeus_files=[join(join(mypath,malwaretype[3]),f) for f in listdir(join(mypath,malwaretype[3])) if isfile(join(join(mypath,malwaretype[3]), f))]\n",
    "\n",
    "apt1_files = [load_files(filedir=name) for name in apt1_files]\n",
    "crypto_files = [load_files(filedir=name) for name in crypto_files]\n",
    "locker_files = [load_files(filedir=name) for name in locker_files]\n",
    "zeus_files = [load_files(filedir=name) for name in zeus_files]"
   ]
  },
  {
   "cell_type": "code",
   "execution_count": 5,
   "metadata": {},
   "outputs": [
    {
     "name": "stdout",
     "output_type": "stream",
     "text": [
      "dict_keys(['entityId', 'entityType', 'event', 'eventTime', 'properties'])\n",
      "dict_keys(['entityId', 'entityType', 'event', 'eventTime', 'properties'])\n",
      "dict_keys(['entityId', 'entityType', 'event', 'eventTime', 'properties'])\n",
      "dict_keys(['entityId', 'entityType', 'event', 'eventTime', 'properties'])\n",
      "\n",
      "\n",
      "properties apt1 file 0: 22\n",
      "properties crypto file 0: 18\n",
      "properties locker file 0: 17\n",
      "properties zeus file 0: 34\n"
     ]
    }
   ],
   "source": [
    "# archive structure:\n",
    "print(apt1_files[0].keys())\n",
    "print(crypto_files[0].keys())\n",
    "print(locker_files[0].keys())\n",
    "print(zeus_files[0].keys())\n",
    "print(\"\\n\")\n",
    "print('properties apt1 file 0:',len(apt1_files[0]['properties'].keys()))\n",
    "print('properties crypto file 0:',len(crypto_files[0]['properties'].keys()))\n",
    "print('properties locker file 0:',len(locker_files[0]['properties'].keys()))\n",
    "print('properties zeus file 0:',len(zeus_files[0]['properties'].keys()))\n",
    "#each kind of malware has different properties in its files"
   ]
  },
  {
   "cell_type": "code",
   "execution_count": 6,
   "metadata": {},
   "outputs": [
    {
     "name": "stdout",
     "output_type": "stream",
     "text": [
      "common properties: 52\n"
     ]
    }
   ],
   "source": [
    "apt1_prop = []\n",
    "crypto_prop = []\n",
    "locker_prop = []\n",
    "zeus_prop = []\n",
    "\n",
    "for file in apt1_files:\n",
    "  for prop in file['properties']:\n",
    "    if (prop not in apt1_prop):\n",
    "        apt1_prop.append(prop)\n",
    "for file in crypto_files:\n",
    "  for prop in file['properties']:\n",
    "    if (prop not in crypto_prop):\n",
    "        crypto_prop.append(prop)\n",
    "for file in locker_files:\n",
    "  for prop in file['properties']:\n",
    "    if (prop not in locker_prop):\n",
    "        locker_prop.append(prop)\n",
    "for file in zeus_files:\n",
    "  for prop in file['properties']:\n",
    "    if (prop not in zeus_prop):\n",
    "        zeus_prop.append(prop)\n",
    "\n",
    "#check common properties\n",
    "props = []\n",
    "for prop in apt1_prop:\n",
    "  if (prop in crypto_prop and prop in locker_prop and zeus_prop):\n",
    "    props.append(prop)\n",
    "\n",
    "print('common properties:',len(props))"
   ]
  },
  {
   "cell_type": "code",
   "execution_count": 25,
   "metadata": {},
   "outputs": [],
   "source": [
    "## create dataframe\n",
    "df=pd.DataFrame(columns=props)\n",
    "        \n",
    "hexa=apt1_files[0]['properties'].get(props[0])\n",
    "\n",
    "def append_df(file,properties):\n",
    "    line=[]\n",
    "    for i in range(0,len(properties)):\n",
    "        try: line.append(file['properties'].get(props[i]))\n",
    "        except: line.append()\n",
    "    return line\n",
    "\n",
    "for f in apt1_files:\n",
    "    df.loc[len(df)]=append_df(f,props)\n",
    "for f in crypto_files:\n",
    "    df.loc[len(df)]=append_df(f,props)\n",
    "for f in locker_files:\n",
    "    df.loc[len(df)]=append_df(f,props)\n",
    "for f in zeus_files:\n",
    "    df.loc[len(df)]=append_df(f,props)"
   ]
  }
 ],
 "metadata": {
  "kernelspec": {
   "display_name": "Python 3.9.10 ('base')",
   "language": "python",
   "name": "python3"
  },
  "language_info": {
   "codemirror_mode": {
    "name": "ipython",
    "version": 3
   },
   "file_extension": ".py",
   "mimetype": "text/x-python",
   "name": "python",
   "nbconvert_exporter": "python",
   "pygments_lexer": "ipython3",
   "version": "3.9.10"
  },
  "orig_nbformat": 4,
  "vscode": {
   "interpreter": {
    "hash": "fcfdf0b1533fe1f22d2322fd23af005881bce7ec47ac9289ddab3a24b5059cd8"
   }
  }
 },
 "nbformat": 4,
 "nbformat_minor": 2
}
